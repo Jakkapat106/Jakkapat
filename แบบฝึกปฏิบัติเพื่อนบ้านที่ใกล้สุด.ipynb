{
  "nbformat": 4,
  "nbformat_minor": 0,
  "metadata": {
    "colab": {
      "provenance": []
    },
    "kernelspec": {
      "name": "python3",
      "display_name": "Python 3"
    },
    "language_info": {
      "name": "python"
    }
  },
  "cells": [
    {
      "cell_type": "code",
      "execution_count": 5,
      "metadata": {
        "colab": {
          "base_uri": "https://localhost:8080/"
        },
        "id": "X6-VRQVdESbG",
        "outputId": "28f876ab-d7c7-4d36-d38d-465c2d0fc005"
      },
      "outputs": [
        {
          "output_type": "stream",
          "name": "stdout",
          "text": [
            "0.6944444444444444\n"
          ]
        }
      ],
      "source": [
        "# Import necessary modules\n",
        "from sklearn.neighbors import KNeighborsClassifier\n",
        "from sklearn.model_selection import train_test_split\n",
        "from sklearn.datasets import load_wine\n",
        "\n",
        "# Loading data\n",
        "wineData = load_wine()\n",
        "\n",
        "# Create feature and target arrays\n",
        "X = wineData.data\n",
        "y = wineData.target\n",
        "\n",
        "# Split into training and test set\n",
        "X_train, X_test, y_train, y_test = train_test_split(\n",
        "             X, y, test_size = 0.2, random_state=42)\n",
        "\n",
        "knn = KNeighborsClassifier(n_neighbors=7)\n",
        "\n",
        "knn.fit(X_train, y_train)\n",
        "\n",
        "# Predict on dataset which model has not seen before\n",
        "print(knn.score(X_test, y_test))"
      ]
    }
  ]
}